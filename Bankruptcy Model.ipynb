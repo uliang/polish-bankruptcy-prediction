{
 "cells": [
  {
   "cell_type": "markdown",
   "metadata": {
    "toc": true
   },
   "source": [
    "<h1>Table of Contents<span class=\"tocSkip\"></span></h1>\n",
    "<div class=\"toc\"><ul class=\"toc-item\"></ul></div>"
   ]
  },
  {
   "cell_type": "code",
   "execution_count": 38,
   "metadata": {},
   "outputs": [
    {
     "name": "stdout",
     "output_type": "stream",
     "text": [
      "The autoreload extension is already loaded. To reload it, use:\n",
      "  %reload_ext autoreload\n"
     ]
    }
   ],
   "source": [
    "%load_ext autoreload \n",
    "%autoreload 2\n",
    "%matplotlib inline \n"
   ]
  },
  {
   "cell_type": "code",
   "execution_count": 40,
   "metadata": {},
   "outputs": [],
   "source": [
    "from sklearn.impute import SimpleImputer\n",
    "from sklearn.preprocessing import StandardScaler\n",
    "\n",
    "from imblearn.over_sampling import SVMSMOTE \n",
    "\n",
    "import torch\n",
    "from torchdata.datapipes.iter import FileLister, Zipper\n",
    "from torch.utils.data import DataLoader\n",
    "\n",
    "import numpy as np\n",
    "\n",
    "import my_data_pipes"
   ]
  },
  {
   "cell_type": "code",
   "execution_count": 45,
   "metadata": {},
   "outputs": [
    {
     "name": "stdout",
     "output_type": "stream",
     "text": [
      "cpu\n"
     ]
    }
   ],
   "source": [
    "device = \"cuda:0\" if torch.cuda.is_available() else \"cpu\"\n",
    "print(device)\n",
    "device = torch.device(device)"
   ]
  },
  {
   "cell_type": "code",
   "execution_count": 41,
   "metadata": {},
   "outputs": [],
   "source": [
    "svm_smote = SVMSMOTE(sampling_strategy=0.8, random_state=42)\n",
    "imputer = SimpleImputer() \n",
    "scale = StandardScaler()"
   ]
  },
  {
   "cell_type": "code",
   "execution_count": 28,
   "metadata": {},
   "outputs": [],
   "source": [
    "\n",
    "def reshaper(seq): \n",
    "    return np.array(seq).reshape(1,-1)\n",
    "\n",
    "def feature_label_split(dp, sequence_length): \n",
    "    *feature_dp, label_dp = dp.unzip(sequence_length=sequence_length)\n",
    "    return Zipper(*feature_dp).map(reshaper), label_dp\n",
    "\n",
    "def apply_balancer(feature_dp, label_dp, balancer): \n",
    "    return Zipper(feature_dp, label_dp).balance(balancer) \n",
    "\n",
    "datapipe = FileLister(root='data', ).open_files(mode='t').read_arff().shuffle(buffer_size=5000)\n",
    "datapipe = datapipe.map(float, input_col='class')\n",
    "train, test = datapipe.random_split(weights={'train': 0.8, 'test':0.2}, seed=42, total_length=43405)\n",
    "\n",
    "train_feature_dp, train_label_dp = feature_label_split(train, sequence_length=65)\n",
    "\n",
    "X= DataLoader(train_feature_dp, batch_size=5000) \n",
    "X= next(iter(X))\n",
    "X= X.reshape(5000, 64)\n",
    "\n",
    "imputer.fit(X) \n",
    "scale.fit(X) \n",
    "\n",
    "train_feature_dp = train_feature_dp.map(imputer.transform).map(scale.transform)\n",
    "balanced_train = apply_balancer(train_feature_dp, train_label_dp, svm_smote)\n",
    "\n",
    "train_dataloader = DataLoader(balanced_train, batch_size=32, shuffle=True)\n",
    "\n",
    "test_feature_dp, test_label_dp = feature_label_split(test, sequence_length=65)\n",
    "test_dataloader = DataLoader(test, batch_size=32)"
   ]
  },
  {
   "cell_type": "code",
   "execution_count": 29,
   "metadata": {},
   "outputs": [],
   "source": [
    "from my_model import SimpleNet"
   ]
  },
  {
   "cell_type": "code",
   "execution_count": 32,
   "metadata": {},
   "outputs": [],
   "source": [
    "from torch.nn import BCELoss\n",
    "from torch.optim import Adam\n",
    "\n",
    "net = SimpleNet(64, 10, 1).to(device)\n",
    "\n",
    "loss_fn = BCELoss()\n",
    "optimizer = Adam(net.parameters(), lr=0.05, weight_decay=0.1 ) "
   ]
  },
  {
   "cell_type": "code",
   "execution_count": 33,
   "metadata": {},
   "outputs": [
    {
     "data": {
      "application/vnd.jupyter.widget-view+json": {
       "model_id": "68efc6a4e497400aaabb2ddc45f0b80f",
       "version_major": 2,
       "version_minor": 0
      },
      "text/plain": [
       "  0%|          | 0/2172 [00:00<?, ?it/s]"
      ]
     },
     "metadata": {},
     "output_type": "display_data"
    },
    {
     "name": "stdout",
     "output_type": "stream",
     "text": [
      "Iter:    0  Loss:0.846033183566\n",
      "Iter:  200  Loss:0.132341444050\n",
      "Iter:  400  Loss:0.232565873371\n"
     ]
    },
    {
     "ename": "KeyboardInterrupt",
     "evalue": "",
     "output_type": "error",
     "traceback": [
      "\u001b[1;31m---------------------------------------------------------------------------\u001b[0m",
      "\u001b[1;31mKeyboardInterrupt\u001b[0m                         Traceback (most recent call last)",
      "Cell \u001b[1;32mIn [33], line 6\u001b[0m\n\u001b[0;32m      4\u001b[0m \u001b[39mwith\u001b[39;00m tqdm(total\u001b[39m=\u001b[39m\u001b[39mlen\u001b[39m(train_dataloader)\u001b[39m*\u001b[39mMAX_EPOCHS) \u001b[39mas\u001b[39;00m t: \n\u001b[0;32m      5\u001b[0m     \u001b[39mfor\u001b[39;00m epoch \u001b[39min\u001b[39;00m \u001b[39mrange\u001b[39m(MAX_EPOCHS): \n\u001b[1;32m----> 6\u001b[0m         \u001b[39mfor\u001b[39;00m it, (batch, labels) \u001b[39min\u001b[39;00m \u001b[39menumerate\u001b[39m(train_dataloader): \n\u001b[0;32m      7\u001b[0m             output \u001b[39m=\u001b[39m net(batch) \n\u001b[0;32m      8\u001b[0m             loss \u001b[39m=\u001b[39m loss_fn(output, labels) \n",
      "File \u001b[1;32mc:\\Users\\uliang.t\\Miniconda3\\envs\\data_science_python310\\lib\\site-packages\\torch\\utils\\data\\dataloader.py:628\u001b[0m, in \u001b[0;36m_BaseDataLoaderIter.__next__\u001b[1;34m(self)\u001b[0m\n\u001b[0;32m    625\u001b[0m \u001b[39mif\u001b[39;00m \u001b[39mself\u001b[39m\u001b[39m.\u001b[39m_sampler_iter \u001b[39mis\u001b[39;00m \u001b[39mNone\u001b[39;00m:\n\u001b[0;32m    626\u001b[0m     \u001b[39m# TODO(https://github.com/pytorch/pytorch/issues/76750)\u001b[39;00m\n\u001b[0;32m    627\u001b[0m     \u001b[39mself\u001b[39m\u001b[39m.\u001b[39m_reset()  \u001b[39m# type: ignore[call-arg]\u001b[39;00m\n\u001b[1;32m--> 628\u001b[0m data \u001b[39m=\u001b[39m \u001b[39mself\u001b[39;49m\u001b[39m.\u001b[39;49m_next_data()\n\u001b[0;32m    629\u001b[0m \u001b[39mself\u001b[39m\u001b[39m.\u001b[39m_num_yielded \u001b[39m+\u001b[39m\u001b[39m=\u001b[39m \u001b[39m1\u001b[39m\n\u001b[0;32m    630\u001b[0m \u001b[39mif\u001b[39;00m \u001b[39mself\u001b[39m\u001b[39m.\u001b[39m_dataset_kind \u001b[39m==\u001b[39m _DatasetKind\u001b[39m.\u001b[39mIterable \u001b[39mand\u001b[39;00m \\\n\u001b[0;32m    631\u001b[0m         \u001b[39mself\u001b[39m\u001b[39m.\u001b[39m_IterableDataset_len_called \u001b[39mis\u001b[39;00m \u001b[39mnot\u001b[39;00m \u001b[39mNone\u001b[39;00m \u001b[39mand\u001b[39;00m \\\n\u001b[0;32m    632\u001b[0m         \u001b[39mself\u001b[39m\u001b[39m.\u001b[39m_num_yielded \u001b[39m>\u001b[39m \u001b[39mself\u001b[39m\u001b[39m.\u001b[39m_IterableDataset_len_called:\n",
      "File \u001b[1;32mc:\\Users\\uliang.t\\Miniconda3\\envs\\data_science_python310\\lib\\site-packages\\torch\\utils\\data\\dataloader.py:671\u001b[0m, in \u001b[0;36m_SingleProcessDataLoaderIter._next_data\u001b[1;34m(self)\u001b[0m\n\u001b[0;32m    669\u001b[0m \u001b[39mdef\u001b[39;00m \u001b[39m_next_data\u001b[39m(\u001b[39mself\u001b[39m):\n\u001b[0;32m    670\u001b[0m     index \u001b[39m=\u001b[39m \u001b[39mself\u001b[39m\u001b[39m.\u001b[39m_next_index()  \u001b[39m# may raise StopIteration\u001b[39;00m\n\u001b[1;32m--> 671\u001b[0m     data \u001b[39m=\u001b[39m \u001b[39mself\u001b[39;49m\u001b[39m.\u001b[39;49m_dataset_fetcher\u001b[39m.\u001b[39;49mfetch(index)  \u001b[39m# may raise StopIteration\u001b[39;00m\n\u001b[0;32m    672\u001b[0m     \u001b[39mif\u001b[39;00m \u001b[39mself\u001b[39m\u001b[39m.\u001b[39m_pin_memory:\n\u001b[0;32m    673\u001b[0m         data \u001b[39m=\u001b[39m _utils\u001b[39m.\u001b[39mpin_memory\u001b[39m.\u001b[39mpin_memory(data, \u001b[39mself\u001b[39m\u001b[39m.\u001b[39m_pin_memory_device)\n",
      "File \u001b[1;32mc:\\Users\\uliang.t\\Miniconda3\\envs\\data_science_python310\\lib\\site-packages\\torch\\utils\\data\\_utils\\fetch.py:34\u001b[0m, in \u001b[0;36m_IterableDatasetFetcher.fetch\u001b[1;34m(self, possibly_batched_index)\u001b[0m\n\u001b[0;32m     32\u001b[0m \u001b[39mfor\u001b[39;00m _ \u001b[39min\u001b[39;00m possibly_batched_index:\n\u001b[0;32m     33\u001b[0m     \u001b[39mtry\u001b[39;00m:\n\u001b[1;32m---> 34\u001b[0m         data\u001b[39m.\u001b[39mappend(\u001b[39mnext\u001b[39;49m(\u001b[39mself\u001b[39;49m\u001b[39m.\u001b[39;49mdataset_iter))\n\u001b[0;32m     35\u001b[0m     \u001b[39mexcept\u001b[39;00m \u001b[39mStopIteration\u001b[39;00m:\n\u001b[0;32m     36\u001b[0m         \u001b[39mself\u001b[39m\u001b[39m.\u001b[39mended \u001b[39m=\u001b[39m \u001b[39mTrue\u001b[39;00m\n",
      "File \u001b[1;32mc:\\Users\\uliang.t\\Miniconda3\\envs\\data_science_python310\\lib\\site-packages\\torch\\utils\\data\\datapipes\\_hook_iterator.py:185\u001b[0m, in \u001b[0;36mhook_iterator.<locals>.wrap_generator\u001b[1;34m(*args, **kwargs)\u001b[0m\n\u001b[0;32m    183\u001b[0m         \u001b[39melse\u001b[39;00m:  \u001b[39m# Decided against using `contextlib.nullcontext` for performance reasons\u001b[39;00m\n\u001b[0;32m    184\u001b[0m             _check_iterator_valid(datapipe, iterator_id)\n\u001b[1;32m--> 185\u001b[0m             response \u001b[39m=\u001b[39m gen\u001b[39m.\u001b[39;49msend(request)\n\u001b[0;32m    186\u001b[0m \u001b[39mexcept\u001b[39;00m \u001b[39mStopIteration\u001b[39;00m \u001b[39mas\u001b[39;00m e:\n\u001b[0;32m    187\u001b[0m     \u001b[39mreturn\u001b[39;00m\n",
      "File \u001b[1;32mc:\\Users\\uliang.t\\Miniconda3\\envs\\data_science_python310\\lib\\site-packages\\torch\\utils\\data\\datapipes\\datapipe.py:351\u001b[0m, in \u001b[0;36m_IterDataPipeSerializationWrapper.__iter__\u001b[1;34m(self)\u001b[0m\n\u001b[0;32m    350\u001b[0m \u001b[39mdef\u001b[39;00m \u001b[39m__iter__\u001b[39m(\u001b[39mself\u001b[39m):\n\u001b[1;32m--> 351\u001b[0m     \u001b[39myield from\u001b[39;00m \u001b[39mself\u001b[39m\u001b[39m.\u001b[39m_datapipe\n",
      "File \u001b[1;32mc:\\Users\\uliang.t\\Miniconda3\\envs\\data_science_python310\\lib\\site-packages\\torch\\utils\\data\\datapipes\\_hook_iterator.py:185\u001b[0m, in \u001b[0;36mhook_iterator.<locals>.wrap_generator\u001b[1;34m(*args, **kwargs)\u001b[0m\n\u001b[0;32m    183\u001b[0m         \u001b[39melse\u001b[39;00m:  \u001b[39m# Decided against using `contextlib.nullcontext` for performance reasons\u001b[39;00m\n\u001b[0;32m    184\u001b[0m             _check_iterator_valid(datapipe, iterator_id)\n\u001b[1;32m--> 185\u001b[0m             response \u001b[39m=\u001b[39m gen\u001b[39m.\u001b[39;49msend(request)\n\u001b[0;32m    186\u001b[0m \u001b[39mexcept\u001b[39;00m \u001b[39mStopIteration\u001b[39;00m \u001b[39mas\u001b[39;00m e:\n\u001b[0;32m    187\u001b[0m     \u001b[39mreturn\u001b[39;00m\n",
      "File \u001b[1;32mc:\\Users\\uliang.t\\Miniconda3\\envs\\data_science_python310\\lib\\site-packages\\torchdata\\datapipes\\iter\\util\\randomsplitter.py:184\u001b[0m, in \u001b[0;36mSplitterIterator.__iter__\u001b[1;34m(self)\u001b[0m\n\u001b[0;32m    182\u001b[0m \u001b[39mdef\u001b[39;00m \u001b[39m__iter__\u001b[39m(\u001b[39mself\u001b[39m):\n\u001b[0;32m    183\u001b[0m     \u001b[39mself\u001b[39m\u001b[39m.\u001b[39mmain_datapipe\u001b[39m.\u001b[39mreset()\n\u001b[1;32m--> 184\u001b[0m     \u001b[39mfor\u001b[39;00m sample \u001b[39min\u001b[39;00m \u001b[39mself\u001b[39m\u001b[39m.\u001b[39mmain_datapipe\u001b[39m.\u001b[39msource_datapipe:\n\u001b[0;32m    185\u001b[0m         \u001b[39mif\u001b[39;00m \u001b[39mself\u001b[39m\u001b[39m.\u001b[39mmain_datapipe\u001b[39m.\u001b[39mdraw() \u001b[39m==\u001b[39m \u001b[39mself\u001b[39m\u001b[39m.\u001b[39mtarget:\n\u001b[0;32m    186\u001b[0m             \u001b[39myield\u001b[39;00m sample\n",
      "File \u001b[1;32mc:\\Users\\uliang.t\\Miniconda3\\envs\\data_science_python310\\lib\\site-packages\\torch\\utils\\data\\datapipes\\_hook_iterator.py:185\u001b[0m, in \u001b[0;36mhook_iterator.<locals>.wrap_generator\u001b[1;34m(*args, **kwargs)\u001b[0m\n\u001b[0;32m    183\u001b[0m         \u001b[39melse\u001b[39;00m:  \u001b[39m# Decided against using `contextlib.nullcontext` for performance reasons\u001b[39;00m\n\u001b[0;32m    184\u001b[0m             _check_iterator_valid(datapipe, iterator_id)\n\u001b[1;32m--> 185\u001b[0m             response \u001b[39m=\u001b[39m gen\u001b[39m.\u001b[39;49msend(request)\n\u001b[0;32m    186\u001b[0m \u001b[39mexcept\u001b[39;00m \u001b[39mStopIteration\u001b[39;00m \u001b[39mas\u001b[39;00m e:\n\u001b[0;32m    187\u001b[0m     \u001b[39mreturn\u001b[39;00m\n",
      "File \u001b[1;32mc:\\Users\\uliang.t\\Miniconda3\\envs\\data_science_python310\\lib\\site-packages\\torch\\utils\\data\\datapipes\\iter\\combinatorics.py:127\u001b[0m, in \u001b[0;36mShufflerIterDataPipe.__iter__\u001b[1;34m(self)\u001b[0m\n\u001b[0;32m    125\u001b[0m         \u001b[39myield\u001b[39;00m x\n\u001b[0;32m    126\u001b[0m \u001b[39melse\u001b[39;00m:\n\u001b[1;32m--> 127\u001b[0m     \u001b[39mfor\u001b[39;00m x \u001b[39min\u001b[39;00m \u001b[39mself\u001b[39m\u001b[39m.\u001b[39mdatapipe:\n\u001b[0;32m    128\u001b[0m         \u001b[39mif\u001b[39;00m \u001b[39mlen\u001b[39m(\u001b[39mself\u001b[39m\u001b[39m.\u001b[39m_buffer) \u001b[39m==\u001b[39m \u001b[39mself\u001b[39m\u001b[39m.\u001b[39mbuffer_size:\n\u001b[0;32m    129\u001b[0m             idx \u001b[39m=\u001b[39m \u001b[39mself\u001b[39m\u001b[39m.\u001b[39m_rng\u001b[39m.\u001b[39mrandint(\u001b[39m0\u001b[39m, \u001b[39mlen\u001b[39m(\u001b[39mself\u001b[39m\u001b[39m.\u001b[39m_buffer) \u001b[39m-\u001b[39m \u001b[39m1\u001b[39m)\n",
      "File \u001b[1;32mc:\\Users\\uliang.t\\Miniconda3\\envs\\data_science_python310\\lib\\site-packages\\torch\\utils\\data\\datapipes\\_hook_iterator.py:185\u001b[0m, in \u001b[0;36mhook_iterator.<locals>.wrap_generator\u001b[1;34m(*args, **kwargs)\u001b[0m\n\u001b[0;32m    183\u001b[0m         \u001b[39melse\u001b[39;00m:  \u001b[39m# Decided against using `contextlib.nullcontext` for performance reasons\u001b[39;00m\n\u001b[0;32m    184\u001b[0m             _check_iterator_valid(datapipe, iterator_id)\n\u001b[1;32m--> 185\u001b[0m             response \u001b[39m=\u001b[39m gen\u001b[39m.\u001b[39;49msend(request)\n\u001b[0;32m    186\u001b[0m \u001b[39mexcept\u001b[39;00m \u001b[39mStopIteration\u001b[39;00m \u001b[39mas\u001b[39;00m e:\n\u001b[0;32m    187\u001b[0m     \u001b[39mreturn\u001b[39;00m\n",
      "File \u001b[1;32mc:\\Users\\uliang.t\\Documents\\bankruptcy\\my_data_pipes.py:38\u001b[0m, in \u001b[0;36mDataPreprocessing.__iter__\u001b[1;34m(self)\u001b[0m\n\u001b[0;32m     36\u001b[0m datum \u001b[39m=\u001b[39m datum\u001b[39m.\u001b[39mreshape(\u001b[39m1\u001b[39m, \u001b[39m-\u001b[39m\u001b[39m1\u001b[39m)\n\u001b[0;32m     37\u001b[0m \u001b[39mfor\u001b[39;00m step \u001b[39min\u001b[39;00m \u001b[39mself\u001b[39m\u001b[39m.\u001b[39msteps: \n\u001b[1;32m---> 38\u001b[0m     datum \u001b[39m=\u001b[39m step(datum)\n\u001b[0;32m     39\u001b[0m label \u001b[39m=\u001b[39m \u001b[39mself\u001b[39m\u001b[39m.\u001b[39mtarget_trans(label)\n\u001b[0;32m     40\u001b[0m \u001b[39myield\u001b[39;00m datum, label\u001b[39m.\u001b[39mreshape(\u001b[39m1\u001b[39m, \u001b[39m-\u001b[39m\u001b[39m1\u001b[39m)\n",
      "File \u001b[1;32mc:\\Users\\uliang.t\\Miniconda3\\envs\\data_science_python310\\lib\\site-packages\\sklearn\\impute\\_base.py:564\u001b[0m, in \u001b[0;36mSimpleImputer.transform\u001b[1;34m(self, X)\u001b[0m\n\u001b[0;32m    560\u001b[0m     coordinates \u001b[39m=\u001b[39m np\u001b[39m.\u001b[39mwhere(mask_valid_features\u001b[39m.\u001b[39mtranspose())[::\u001b[39m-\u001b[39m\u001b[39m1\u001b[39m]\n\u001b[0;32m    562\u001b[0m     X[coordinates] \u001b[39m=\u001b[39m values\n\u001b[1;32m--> 564\u001b[0m X_indicator \u001b[39m=\u001b[39m \u001b[39msuper\u001b[39;49m()\u001b[39m.\u001b[39m_transform_indicator(missing_mask)\n\u001b[0;32m    566\u001b[0m \u001b[39mreturn\u001b[39;00m \u001b[39msuper\u001b[39m()\u001b[39m.\u001b[39m_concatenate_indicator(X, X_indicator)\n",
      "\u001b[1;31mKeyboardInterrupt\u001b[0m: "
     ]
    }
   ],
   "source": [
    "MAX_EPOCHS = 2\n",
    "for epoch in range(MAX_EPOCHS): \n",
    "    for it, (batch, labels) in enumerate(train_dataloader): \n",
    "        output = net(batch) \n",
    "        loss = loss_fn(output, labels) \n",
    "\n",
    "        optimizer.zero_grad() \n",
    "        loss.backward()\n",
    "        optimizer.step()\n",
    "\n",
    "        if it % 200 == 0:\n",
    "            loss = loss.item()\n",
    "            print(f'Iter: {it: >4}  Loss:{loss: >0.12f}')\n",
    "            \n",
    "    recall, precis = 0, 0\n",
    "    with torch.no_grad(): \n",
    "        for batch, labels in test_dataloader: \n",
    "            pred = net(batch) \n",
    "            pred = (pred >= 0.5).type(torch.float64)\n",
    "            recall += (pred[labels==1] == labels[labels==1]).type(torch.float64).sum().item()\n",
    "            precis += (pred[pred==1] == labels[pred==1]).type(torch.float64).sum().item()\n",
    "    \n",
    "    recall /= len(test_dataloader)\n",
    "    precis /= len(test_dataloader)\n",
    "    print(f\"Recall: {recall: >0.3f} Precision: {precis: >0.3f}\")\n",
    "\n"
   ]
  },
  {
   "cell_type": "code",
   "execution_count": null,
   "metadata": {},
   "outputs": [],
   "source": []
  }
 ],
 "metadata": {
  "kernelspec": {
   "display_name": "Python 3 (ipykernel)",
   "language": "python",
   "name": "python3"
  },
  "language_info": {
   "codemirror_mode": {
    "name": "ipython",
    "version": 3
   },
   "file_extension": ".py",
   "mimetype": "text/x-python",
   "name": "python",
   "nbconvert_exporter": "python",
   "pygments_lexer": "ipython3",
   "version": "3.10.4"
  },
  "toc": {
   "base_numbering": 1,
   "nav_menu": {},
   "number_sections": true,
   "sideBar": true,
   "skip_h1_title": false,
   "title_cell": "Table of Contents",
   "title_sidebar": "Contents",
   "toc_cell": true,
   "toc_position": {},
   "toc_section_display": true,
   "toc_window_display": false
  },
  "vscode": {
   "interpreter": {
    "hash": "0689f48586b0afa45e1397f64656af5174ff23a6865b5ccc3d1d8fba8586d107"
   }
  }
 },
 "nbformat": 4,
 "nbformat_minor": 2
}
